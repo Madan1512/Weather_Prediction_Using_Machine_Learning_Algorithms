{
  "cells": [
    {
      "cell_type": "code",
      "execution_count": null,
      "metadata": {
        "colab": {
          "base_uri": "https://localhost:8080/"
        },
        "id": "Hc1rAzbCxuBX",
        "outputId": "80e7940f-a2c9-4f97-8eb9-3be324acd486"
      },
      "outputs": [
        {
          "output_type": "stream",
          "name": "stdout",
          "text": [
            "(1461, 6)\n",
            "    precipitation  temp_max  temp_min  wind  weather\n",
            "0             0.0      12.8       5.0   4.7  drizzle\n",
            "1            10.9      10.6       2.8   4.5     rain\n",
            "2             0.8      11.7       7.2   2.3     rain\n",
            "3            20.3      12.2       5.6   4.7     rain\n",
            "4             1.3       8.9       2.8   6.1     rain\n",
            "5             2.5       4.4       2.2   2.2     rain\n",
            "6             0.0       7.2       2.8   2.3     rain\n",
            "7             0.0      10.0       2.8   2.0      sun\n",
            "8             4.3       9.4       5.0   3.4     rain\n",
            "9             1.0       6.1       0.6   3.4     rain\n",
            "10            0.0       6.1      -1.1   5.1      sun\n",
            "11            0.0       6.1      -1.7   1.9      sun\n",
            "12            0.0       5.0      -2.8   1.3      sun\n",
            "13            4.1       4.4       0.6   5.3     snow\n",
            "14            5.3       1.1      -3.3   3.2     snow\n",
            "Index(['precipitation', 'temp_max', 'temp_min', 'wind', 'weather'], dtype='object')\n"
          ]
        }
      ],
      "source": [
        "import pandas as pd\n",
        "import numpy as np\n",
        "from matplotlib import pyplot as plt\n",
        "import seaborn as sns\n",
        "data = pd.read_csv('/content/seattle-weather.csv')\n",
        "print(data.shape)\n",
        "data=data.drop('date',axis=1)\n",
        "print(data.head(15))\n",
        "print(data.columns)"
      ]
    },
    {
      "cell_type": "code",
      "execution_count": null,
      "metadata": {
        "colab": {
          "base_uri": "https://localhost:8080/"
        },
        "id": "GotFYN3V4b36",
        "outputId": "585a2d59-fa6b-4265-98b7-6d6afd7010fe"
      },
      "outputs": [
        {
          "output_type": "stream",
          "name": "stdout",
          "text": [
            "rain       641\n",
            "sun        640\n",
            "fog        101\n",
            "drizzle     53\n",
            "snow        26\n",
            "Name: weather, dtype: int64\n"
          ]
        }
      ],
      "source": [
        "print(data['weather'].value_counts())"
      ]
    },
    {
      "cell_type": "code",
      "execution_count": null,
      "metadata": {
        "id": "qD7JFCA7y93Y",
        "colab": {
          "base_uri": "https://localhost:8080/"
        },
        "outputId": "b6bf8c43-33e3-4e5c-b93a-fa1a4adce03a"
      },
      "outputs": [
        {
          "output_type": "stream",
          "name": "stdout",
          "text": [
            "(1461, 4)\n",
            "(1461,)\n",
            "<class 'pandas.core.frame.DataFrame'>\n",
            "<class 'pandas.core.series.Series'>\n"
          ]
        }
      ],
      "source": [
        "x = data.drop('weather',axis=1)\n",
        "print(x.shape)\n",
        "y = data['weather']\n",
        "print(y.shape)\n",
        "print(type (x))\n",
        "print(type(y))\n"
      ]
    },
    {
      "cell_type": "code",
      "source": [
        "#Label Encoding\n",
        "from sklearn.preprocessing import LabelEncoder\n",
        "le = LabelEncoder()\n",
        "y = le.fit_transform(y)\n",
        "print(y)"
      ],
      "metadata": {
        "colab": {
          "base_uri": "https://localhost:8080/"
        },
        "id": "QDUTeYjKIj1g",
        "outputId": "75509c37-2f92-4da7-e1f0-ca22122735fe"
      },
      "execution_count": null,
      "outputs": [
        {
          "output_type": "stream",
          "name": "stdout",
          "text": [
            "[0 2 2 ... 1 4 4]\n"
          ]
        }
      ]
    },
    {
      "cell_type": "code",
      "execution_count": null,
      "metadata": {
        "id": "LLGJY5tx1o1J",
        "colab": {
          "base_uri": "https://localhost:8080/"
        },
        "outputId": "fb7b2c3c-2169-4e5f-bbc8-a20e3fef2dc7"
      },
      "outputs": [
        {
          "output_type": "stream",
          "name": "stdout",
          "text": [
            "(1168, 4)\n",
            "(293, 4)\n",
            "(1168,)\n",
            "(293,)\n",
            "False\n"
          ]
        }
      ],
      "source": [
        "#Splitting Training and Test set\n",
        "from sklearn.model_selection import train_test_split\n",
        "x_train,x_test,y_train,y_test=train_test_split(x,y,test_size=0.20,random_state=1)\n",
        "print(x_train.shape)\n",
        "print(x_test.shape)\n",
        "print(y_train.shape)\n",
        "print(y_test.shape)\n",
        "check_nan = x_test.isnull().values.any()\n",
        "print(check_nan)"
      ]
    },
    {
      "cell_type": "markdown",
      "source": [
        "GaussianNaiveBayes"
      ],
      "metadata": {
        "id": "u_4kCVXEN5sy"
      }
    },
    {
      "cell_type": "code",
      "execution_count": null,
      "metadata": {
        "colab": {
          "base_uri": "https://localhost:8080/"
        },
        "id": "UA9wOotDYCUp",
        "outputId": "323869d7-1b12-4331-b74e-67fb2f8fb46e"
      },
      "outputs": [
        {
          "output_type": "stream",
          "name": "stdout",
          "text": [
            "GaussianNB()\n"
          ]
        }
      ],
      "source": [
        "from sklearn.naive_bayes import GaussianNB\n",
        "nb=GaussianNB()\n",
        "print(nb.fit(x_train,y_train))"
      ]
    },
    {
      "cell_type": "code",
      "source": [
        "y_pred1=nb.predict(x_test)\n",
        "result1=pd.DataFrame({'Actual':y_test,'Predictions':y_pred1})\n",
        "print(result1.head())"
      ],
      "metadata": {
        "colab": {
          "base_uri": "https://localhost:8080/"
        },
        "id": "pcXLsEzeL3g8",
        "outputId": "ff3f63a1-056d-45e8-f1c1-a49e4b68bfea"
      },
      "execution_count": null,
      "outputs": [
        {
          "output_type": "stream",
          "name": "stdout",
          "text": [
            "   Actual  Predictions\n",
            "0       0            4\n",
            "1       4            4\n",
            "2       2            4\n",
            "3       4            4\n",
            "4       2            2\n"
          ]
        }
      ]
    },
    {
      "cell_type": "code",
      "source": [
        "from sklearn.metrics import confusion_matrix,ConfusionMatrixDisplay\n",
        "print(confusion_matrix(y_test,y_pred1))\n",
        "cm=confusion_matrix(y_test,y_pred1)\n",
        "cm_disp = ConfusionMatrixDisplay(confusion_matrix = cm, display_labels = nb.classes_)\n",
        "cm_disp.plot()\n",
        "print(plt.show())\n"
      ],
      "metadata": {
        "colab": {
          "base_uri": "https://localhost:8080/",
          "height": 383
        },
        "id": "5z3dm9JorsEt",
        "outputId": "4c5e88c6-4e15-449b-dba1-f1b5a62e037a"
      },
      "execution_count": null,
      "outputs": [
        {
          "output_type": "stream",
          "name": "stdout",
          "text": [
            "[[  2   0   0   0   9]\n",
            " [  0   0   0   0  29]\n",
            " [  0   0 119   2   7]\n",
            " [  0   0   4   2   0]\n",
            " [  1   0   0   0 118]]\n"
          ]
        },
        {
          "output_type": "display_data",
          "data": {
            "text/plain": [
              "<Figure size 432x288 with 2 Axes>"
            ],
            "image/png": "[encoded data removed]"
          },
          "metadata": {
            "needs_background": "light"
          }
        },
        {
          "output_type": "stream",
          "name": "stdout",
          "text": [
            "None\n"
          ]
        }
      ]
    },
    {
      "cell_type": "code",
      "source": [
        "from sklearn.metrics import classification_report\n",
        "print(classification_report(y_test,y_pred1))"
      ],
      "metadata": {
        "colab": {
          "base_uri": "https://localhost:8080/"
        },
        "id": "EtGGj3vUr0bM",
        "outputId": "2e0146f0-6305-4045-d208-a12befd4f19e"
      },
      "execution_count": null,
      "outputs": [
        {
          "output_type": "stream",
          "name": "stdout",
          "text": [
            "              precision    recall  f1-score   support\n",
            "\n",
            "           0       0.67      0.18      0.29        11\n",
            "           1       0.00      0.00      0.00        29\n",
            "           2       0.97      0.93      0.95       128\n",
            "           3       0.50      0.33      0.40         6\n",
            "           4       0.72      0.99      0.84       119\n",
            "\n",
            "    accuracy                           0.82       293\n",
            "   macro avg       0.57      0.49      0.49       293\n",
            "weighted avg       0.75      0.82      0.77       293\n",
            "\n"
          ]
        },
        {
          "output_type": "stream",
          "name": "stderr",
          "text": [
            "/usr/local/lib/python3.9/dist-packages/sklearn/metrics/_classification.py:1344: UndefinedMetricWarning: Precision and F-score are ill-defined and being set to 0.0 in labels with no predicted samples. Use `zero_division` parameter to control this behavior.\n",
            "  _warn_prf(average, modifier, msg_start, len(result))\n",
            "/usr/local/lib/python3.9/dist-packages/sklearn/metrics/_classification.py:1344: UndefinedMetricWarning: Precision and F-score are ill-defined and being set to 0.0 in labels with no predicted samples. Use `zero_division` parameter to control this behavior.\n",
            "  _warn_prf(average, modifier, msg_start, len(result))\n",
            "/usr/local/lib/python3.9/dist-packages/sklearn/metrics/_classification.py:1344: UndefinedMetricWarning: Precision and F-score are ill-defined and being set to 0.0 in labels with no predicted samples. Use `zero_division` parameter to control this behavior.\n",
            "  _warn_prf(average, modifier, msg_start, len(result))\n"
          ]
        }
      ]
    },
    {
      "cell_type": "code",
      "source": [
        "from sklearn.metrics import accuracy_score\n",
        "print(accuracy_score(y_test,y_pred1))"
      ],
      "metadata": {
        "colab": {
          "base_uri": "https://localhost:8080/"
        },
        "id": "izStJKnJxjR5",
        "outputId": "6681305f-9ea8-4108-d190-34499d5b5fd9"
      },
      "execution_count": null,
      "outputs": [
        {
          "output_type": "stream",
          "name": "stdout",
          "text": [
            "0.8225255972696246\n"
          ]
        }
      ]
    },
    {
      "cell_type": "markdown",
      "source": [
        "DecisionTreeClassifier"
      ],
      "metadata": {
        "id": "UzUZnKTuN1yj"
      }
    },
    {
      "cell_type": "code",
      "source": [
        "from sklearn.tree import DecisionTreeClassifier\n",
        "classifier=DecisionTreeClassifier()\n",
        "print(classifier.fit(x_train,y_train))\n",
        "# make predictions\n",
        "y_pred2=classifier.predict(x_test)\n",
        "result2=pd.DataFrame({'Actual':y_test,'Prediction':y_pred2})\n",
        "print(result2.head())"
      ],
      "metadata": {
        "colab": {
          "base_uri": "https://localhost:8080/"
        },
        "id": "7MSKqmwQKbSC",
        "outputId": "f1584b7f-cdec-45bd-d70a-f76351496240"
      },
      "execution_count": null,
      "outputs": [
        {
          "output_type": "stream",
          "name": "stdout",
          "text": [
            "DecisionTreeClassifier()\n",
            "   Actual  Prediction\n",
            "0       0           4\n",
            "1       4           0\n",
            "2       2           1\n",
            "3       4           4\n",
            "4       2           2\n"
          ]
        }
      ]
    },
    {
      "cell_type": "code",
      "source": [
        "from sklearn.metrics import confusion_matrix,ConfusionMatrixDisplay\n",
        "print(confusion_matrix(y_test,y_pred2))\n",
        "confusion_matrix=confusion_matrix(y_test,y_pred2)\n",
        "cm_display = ConfusionMatrixDisplay(confusion_matrix = confusion_matrix, display_labels = classifier.classes_)\n",
        "cm_display.plot()\n",
        "print(plt.show())"
      ],
      "metadata": {
        "colab": {
          "base_uri": "https://localhost:8080/",
          "height": 387
        },
        "id": "Z8QkGB5qqqny",
        "outputId": "9489691d-1e3d-4939-fe80-e8c9f1bf8c47"
      },
      "execution_count": null,
      "outputs": [
        {
          "output_type": "stream",
          "name": "stdout",
          "text": [
            "[[  0   2   1   0   8]\n",
            " [  3   5   2   0  19]\n",
            " [  0   1 120   1   6]\n",
            " [  0   0   5   1   0]\n",
            " [ 10  11   7   0  91]]\n"
          ]
        },
        {
          "output_type": "display_data",
          "data": {
            "text/plain": [
              "<Figure size 432x288 with 2 Axes>"
            ],
            "image/png": "[encoded data removed]"
          },
          "metadata": {
            "needs_background": "light"
          }
        },
        {
          "output_type": "stream",
          "name": "stdout",
          "text": [
            "None\n"
          ]
        }
      ]
    },
    {
      "cell_type": "code",
      "source": [
        "from sklearn.metrics import classification_report\n",
        "print(classification_report(y_test,y_pred2))"
      ],
      "metadata": {
        "colab": {
          "base_uri": "https://localhost:8080/"
        },
        "id": "Wsb0t4b-q5w8",
        "outputId": "6c67f790-8907-45d5-c70d-2405ef203a3d"
      },
      "execution_count": null,
      "outputs": [
        {
          "output_type": "stream",
          "name": "stdout",
          "text": [
            "              precision    recall  f1-score   support\n",
            "\n",
            "           0       0.00      0.00      0.00        11\n",
            "           1       0.26      0.17      0.21        29\n",
            "           2       0.89      0.94      0.91       128\n",
            "           3       0.50      0.17      0.25         6\n",
            "           4       0.73      0.76      0.75       119\n",
            "\n",
            "    accuracy                           0.74       293\n",
            "   macro avg       0.48      0.41      0.42       293\n",
            "weighted avg       0.72      0.74      0.73       293\n",
            "\n"
          ]
        }
      ]
    },
    {
      "cell_type": "code",
      "source": [
        "from sklearn.metrics import accuracy_score\n",
        "print(accuracy_score(y_test,y_pred2))"
      ],
      "metadata": {
        "colab": {
          "base_uri": "https://localhost:8080/"
        },
        "id": "62pH46EtzIuv",
        "outputId": "3fd85e5b-5009-4dc9-a582-22427c0e0ab4"
      },
      "execution_count": null,
      "outputs": [
        {
          "output_type": "stream",
          "name": "stdout",
          "text": [
            "0.7406143344709898\n"
          ]
        }
      ]
    },
    {
      "cell_type": "markdown",
      "source": [
        "RandomForestClassifier"
      ],
      "metadata": {
        "id": "06ra3k0cNxC6"
      }
    },
    {
      "cell_type": "code",
      "execution_count": null,
      "metadata": {
        "colab": {
          "base_uri": "https://localhost:8080/"
        },
        "id": "pfPuYTlu1xyl",
        "outputId": "ac586f2f-60db-4f1b-d3e7-531792f6aa12"
      },
      "outputs": [
        {
          "output_type": "stream",
          "name": "stdout",
          "text": [
            "RandomForestClassifier()\n"
          ]
        }
      ],
      "source": [
        "from sklearn.ensemble import RandomForestClassifier\n",
        "rf=RandomForestClassifier()\n",
        "print(rf.fit(x_train,y_train))"
      ]
    },
    {
      "cell_type": "code",
      "execution_count": null,
      "metadata": {
        "id": "PBt1x8Nu2hwv",
        "colab": {
          "base_uri": "https://localhost:8080/"
        },
        "outputId": "d33b8f58-3082-4c41-9198-6a973a81ec2f"
      },
      "outputs": [
        {
          "output_type": "stream",
          "name": "stdout",
          "text": [
            "   Actual  Prediction\n",
            "0       0           4\n",
            "1       4           4\n",
            "2       2           1\n",
            "3       4           4\n",
            "4       2           2\n"
          ]
        }
      ],
      "source": [
        "y_pred3 = rf.predict(x_test)\n",
        "\n",
        "result3=pd.DataFrame({'Actual':y_test,'Prediction':y_pred3})\n",
        "print(result3.head())\n"
      ]
    },
    {
      "cell_type": "code",
      "source": [
        "\n",
        "from sklearn.metrics import confusion_matrix,ConfusionMatrixDisplay\n",
        "print(confusion_matrix(y_test,y_pred3))\n",
        "confusion_matrix=confusion_matrix(y_test,y_pred3)\n",
        "cm_display = ConfusionMatrixDisplay(confusion_matrix = confusion_matrix, display_labels = rf.classes_)\n",
        "cm_display.plot()\n",
        "print(plt.show())"
      ],
      "metadata": {
        "colab": {
          "base_uri": "https://localhost:8080/",
          "height": 386
        },
        "id": "s30e31dEs3BQ",
        "outputId": "20680151-d9c4-4732-f829-10b375190f2c"
      },
      "execution_count": null,
      "outputs": [
        {
          "output_type": "stream",
          "name": "stdout",
          "text": [
            "[[  1   0   0   0  10]\n",
            " [  0   6   1   0  22]\n",
            " [  0   1 121   0   6]\n",
            " [  0   0   5   1   0]\n",
            " [  2   4   1   0 112]]\n"
          ]
        },
        {
          "output_type": "display_data",
          "data": {
            "text/plain": [
              "<Figure size 432x288 with 2 Axes>"
            ],
            "image/png": "[encoded data removed]"
          },
          "metadata": {
            "needs_background": "light"
          }
        },
        {
          "output_type": "stream",
          "name": "stdout",
          "text": [
            "None\n"
          ]
        }
      ]
    },
    {
      "cell_type": "code",
      "source": [
        "from sklearn.metrics import classification_report\n",
        "print(classification_report(y_test,y_pred3))"
      ],
      "metadata": {
        "colab": {
          "base_uri": "https://localhost:8080/"
        },
        "id": "hX63kn8Us9TD",
        "outputId": "ec9d5931-9cfc-43c8-8cb9-460c84fa9079"
      },
      "execution_count": null,
      "outputs": [
        {
          "output_type": "stream",
          "name": "stdout",
          "text": [
            "              precision    recall  f1-score   support\n",
            "\n",
            "           0       0.33      0.09      0.14        11\n",
            "           1       0.55      0.21      0.30        29\n",
            "           2       0.95      0.95      0.95       128\n",
            "           3       1.00      0.17      0.29         6\n",
            "           4       0.75      0.94      0.83       119\n",
            "\n",
            "    accuracy                           0.82       293\n",
            "   macro avg       0.71      0.47      0.50       293\n",
            "weighted avg       0.80      0.82      0.79       293\n",
            "\n"
          ]
        }
      ]
    },
    {
      "cell_type": "code",
      "source": [
        "from sklearn.metrics import accuracy_score\n",
        "print(accuracy_score(y_test,y_pred3))"
      ],
      "metadata": {
        "colab": {
          "base_uri": "https://localhost:8080/"
        },
        "id": "7xt9lAsO-6gR",
        "outputId": "cbd3606a-516a-4593-a646-ac1a533768a3"
      },
      "execution_count": null,
      "outputs": [
        {
          "output_type": "stream",
          "name": "stdout",
          "text": [
            "0.8225255972696246\n"
          ]
        }
      ]
    },
    {
      "cell_type": "code",
      "source": [
        "#Feature Extraction\n",
        "feature_importances=pd.DataFrame(rf.feature_importances_,index=x_train.columns,columns=['importance']).sort_values('importance')\n",
        "print(feature_importances)"
      ],
      "metadata": {
        "colab": {
          "base_uri": "https://localhost:8080/"
        },
        "id": "Bc64MvwQbcEu",
        "outputId": "b64e1aee-70eb-4eba-a8b2-e6d08348f376"
      },
      "execution_count": null,
      "outputs": [
        {
          "output_type": "stream",
          "name": "stdout",
          "text": [
            "               importance\n",
            "wind             0.147859\n",
            "temp_min         0.148959\n",
            "temp_max         0.186641\n",
            "precipitation    0.516541\n"
          ]
        }
      ]
    },
    {
      "cell_type": "markdown",
      "source": [
        "KNeighborsClassifier(KNN)"
      ],
      "metadata": {
        "id": "i0aPOhTQODTT"
      }
    },
    {
      "cell_type": "code",
      "source": [
        "from sklearn.neighbors import KNeighborsClassifier\n",
        "model=KNeighborsClassifier(n_neighbors=8)\n",
        "print(model.fit(x_train,y_train))"
      ],
      "metadata": {
        "colab": {
          "base_uri": "https://localhost:8080/"
        },
        "id": "rWD8kiGLut_v",
        "outputId": "53286fe6-4a00-4ba8-aa28-3a853fe7e905"
      },
      "execution_count": null,
      "outputs": [
        {
          "output_type": "stream",
          "name": "stdout",
          "text": [
            "KNeighborsClassifier(n_neighbors=8)\n"
          ]
        }
      ]
    },
    {
      "cell_type": "code",
      "source": [
        "y_pred4=model.predict(x_test)\n",
        "result4=pd.DataFrame({'Actual':y_test,'Prediction':y_pred4})\n",
        "print(result4.head())"
      ],
      "metadata": {
        "colab": {
          "base_uri": "https://localhost:8080/"
        },
        "id": "pP8KURzKuwfo",
        "outputId": "57d96548-8313-48c0-8000-892fe24aced1"
      },
      "execution_count": null,
      "outputs": [
        {
          "output_type": "stream",
          "name": "stdout",
          "text": [
            "   Actual  Prediction\n",
            "0       0           4\n",
            "1       4           4\n",
            "2       2           2\n",
            "3       4           4\n",
            "4       2           2\n"
          ]
        }
      ]
    },
    {
      "cell_type": "code",
      "source": [
        "\n",
        "from sklearn.metrics import confusion_matrix,ConfusionMatrixDisplay\n",
        "print(confusion_matrix(y_test,y_pred4))\n",
        "confusion_matrix=confusion_matrix(y_test,y_pred4)\n",
        "cm_display = ConfusionMatrixDisplay(confusion_matrix = confusion_matrix, display_labels =model.classes_)\n",
        "cm_display.plot()\n",
        "print(plt.show())"
      ],
      "metadata": {
        "colab": {
          "base_uri": "https://localhost:8080/",
          "height": 383
        },
        "id": "kEgjElPWvgTP",
        "outputId": "f0600ca3-ad49-4347-ad53-9cfbfcad6d62"
      },
      "execution_count": null,
      "outputs": [
        {
          "output_type": "stream",
          "name": "stdout",
          "text": [
            "[[  1   0   0   0  10]\n",
            " [  0   0   2   0  27]\n",
            " [  0   2 108   0  18]\n",
            " [  1   0   3   1   1]\n",
            " [  0   4   9   0 106]]\n"
          ]
        },
        {
          "output_type": "display_data",
          "data": {
            "text/plain": [
              "<Figure size 432x288 with 2 Axes>"
            ],
            "image/png": "[encoded data removed]"
          },
          "metadata": {
            "needs_background": "light"
          }
        },
        {
          "output_type": "stream",
          "name": "stdout",
          "text": [
            "None\n"
          ]
        }
      ]
    },
    {
      "cell_type": "code",
      "source": [
        "from sklearn.metrics import classification_report\n",
        "print(classification_report(y_test,y_pred4))"
      ],
      "metadata": {
        "colab": {
          "base_uri": "https://localhost:8080/"
        },
        "id": "YM7LEE-Lvm2b",
        "outputId": "4a7da6e4-a9de-49a9-88f2-ecffd066605c"
      },
      "execution_count": null,
      "outputs": [
        {
          "output_type": "stream",
          "name": "stdout",
          "text": [
            "              precision    recall  f1-score   support\n",
            "\n",
            "           0       0.50      0.09      0.15        11\n",
            "           1       0.00      0.00      0.00        29\n",
            "           2       0.89      0.84      0.86       128\n",
            "           3       1.00      0.17      0.29         6\n",
            "           4       0.65      0.89      0.75       119\n",
            "\n",
            "    accuracy                           0.74       293\n",
            "   macro avg       0.61      0.40      0.41       293\n",
            "weighted avg       0.69      0.74      0.70       293\n",
            "\n"
          ]
        }
      ]
    },
    {
      "cell_type": "code",
      "source": [
        "from sklearn.metrics import accuracy_score\n",
        "print(accuracy_score(y_test,y_pred4))"
      ],
      "metadata": {
        "colab": {
          "base_uri": "https://localhost:8080/"
        },
        "id": "7IO7W-PDzZPo",
        "outputId": "bfad371f-e380-497e-c812-f70ae9f64d52"
      },
      "execution_count": null,
      "outputs": [
        {
          "output_type": "stream",
          "name": "stdout",
          "text": [
            "0.7372013651877133\n"
          ]
        }
      ]
    },
    {
      "cell_type": "markdown",
      "source": [
        "LogisticRegression"
      ],
      "metadata": {
        "id": "lWLZ1XDROLwC"
      }
    },
    {
      "cell_type": "code",
      "source": [
        "from sklearn.linear_model import LogisticRegression\n",
        "lr=LogisticRegression(solver='liblinear')\n",
        "print(lr.fit(x_train,y_train))"
      ],
      "metadata": {
        "colab": {
          "base_uri": "https://localhost:8080/"
        },
        "id": "0MxgE_mXRKKx",
        "outputId": "cb39bd62-b021-44e1-e1b9-c33bb1588d88"
      },
      "execution_count": null,
      "outputs": [
        {
          "output_type": "stream",
          "name": "stdout",
          "text": [
            "LogisticRegression(solver='liblinear')\n"
          ]
        }
      ]
    },
    {
      "cell_type": "code",
      "source": [
        "y_pred5=lr.predict(x_test)\n",
        "result5=pd.DataFrame({'Actual':y_test,'Prediction':y_pred5})\n",
        "print(result5.head())"
      ],
      "metadata": {
        "colab": {
          "base_uri": "https://localhost:8080/"
        },
        "id": "kWAn7tUJZEPf",
        "outputId": "2cd730e9-19e2-4912-d246-ce42f19f2554"
      },
      "execution_count": null,
      "outputs": [
        {
          "output_type": "stream",
          "name": "stdout",
          "text": [
            "   Actual  Prediction\n",
            "0       0           4\n",
            "1       4           4\n",
            "2       2           2\n",
            "3       4           4\n",
            "4       2           2\n"
          ]
        }
      ]
    },
    {
      "cell_type": "code",
      "source": [
        "from sklearn.metrics import confusion_matrix,ConfusionMatrixDisplay\n",
        "print(confusion_matrix(y_test,y_pred5))\n",
        "confusion_matrix=confusion_matrix(y_test,y_pred5)\n",
        "cm_display = ConfusionMatrixDisplay(confusion_matrix = confusion_matrix, display_labels =lr.classes_)\n",
        "cm_display.plot()\n",
        "print(plt.show())"
      ],
      "metadata": {
        "colab": {
          "base_uri": "https://localhost:8080/",
          "height": 383
        },
        "id": "Zx2auuftF606",
        "outputId": "b1f6f5bf-dd2a-4a22-a59c-3cd6272b7a5a"
      },
      "execution_count": null,
      "outputs": [
        {
          "output_type": "stream",
          "name": "stdout",
          "text": [
            "[[  0   0   2   0   9]\n",
            " [  0   0   3   0  26]\n",
            " [  0   0 119   0   9]\n",
            " [  0   0   6   0   0]\n",
            " [  0   0   5   0 114]]\n"
          ]
        },
        {
          "output_type": "display_data",
          "data": {
            "text/plain": [
              "<Figure size 432x288 with 2 Axes>"
            ],
            "image/png": "[encoded data removed]"
          },
          "metadata": {
            "needs_background": "light"
          }
        },
        {
          "output_type": "stream",
          "name": "stdout",
          "text": [
            "None\n"
          ]
        }
      ]
    },
    {
      "cell_type": "code",
      "source": [
        "from sklearn.metrics import classification_report\n",
        "print(classification_report(y_test,y_pred5))"
      ],
      "metadata": {
        "colab": {
          "base_uri": "https://localhost:8080/"
        },
        "id": "V59GsmwIbIkM",
        "outputId": "c1914677-08fb-4aee-afbe-850b6198b86b"
      },
      "execution_count": null,
      "outputs": [
        {
          "output_type": "stream",
          "name": "stdout",
          "text": [
            "              precision    recall  f1-score   support\n",
            "\n",
            "           0       0.00      0.00      0.00        11\n",
            "           1       0.00      0.00      0.00        29\n",
            "           2       0.88      0.93      0.90       128\n",
            "           3       0.00      0.00      0.00         6\n",
            "           4       0.72      0.96      0.82       119\n",
            "\n",
            "    accuracy                           0.80       293\n",
            "   macro avg       0.32      0.38      0.35       293\n",
            "weighted avg       0.68      0.80      0.73       293\n",
            "\n"
          ]
        },
        {
          "output_type": "stream",
          "name": "stderr",
          "text": [
            "/usr/local/lib/python3.9/dist-packages/sklearn/metrics/_classification.py:1344: UndefinedMetricWarning: Precision and F-score are ill-defined and being set to 0.0 in labels with no predicted samples. Use `zero_division` parameter to control this behavior.\n",
            "  _warn_prf(average, modifier, msg_start, len(result))\n",
            "/usr/local/lib/python3.9/dist-packages/sklearn/metrics/_classification.py:1344: UndefinedMetricWarning: Precision and F-score are ill-defined and being set to 0.0 in labels with no predicted samples. Use `zero_division` parameter to control this behavior.\n",
            "  _warn_prf(average, modifier, msg_start, len(result))\n",
            "/usr/local/lib/python3.9/dist-packages/sklearn/metrics/_classification.py:1344: UndefinedMetricWarning: Precision and F-score are ill-defined and being set to 0.0 in labels with no predicted samples. Use `zero_division` parameter to control this behavior.\n",
            "  _warn_prf(average, modifier, msg_start, len(result))\n"
          ]
        }
      ]
    },
    {
      "cell_type": "code",
      "source": [
        "from sklearn.metrics import accuracy_score\n",
        "print(accuracy_score(y_test,y_pred5))"
      ],
      "metadata": {
        "colab": {
          "base_uri": "https://localhost:8080/"
        },
        "id": "QdXAEm32a4al",
        "outputId": "ca734586-07b3-45e3-ced6-8912860b3b99"
      },
      "execution_count": null,
      "outputs": [
        {
          "output_type": "stream",
          "name": "stdout",
          "text": [
            "0.7952218430034129\n"
          ]
        }
      ]
    },
    {
      "cell_type": "markdown",
      "source": [
        "XGBClassifier (Extreme Gradient Boosting)"
      ],
      "metadata": {
        "id": "4Ku9vP_wOOYJ"
      }
    },
    {
      "cell_type": "code",
      "source": [
        "from xgboost import XGBClassifier\n",
        "xgb=XGBClassifier()\n",
        "print(xgb.fit(x_train,y_train))"
      ],
      "metadata": {
        "colab": {
          "base_uri": "https://localhost:8080/"
        },
        "id": "Yo3T98kOtN-X",
        "outputId": "eca2e6ff-cb7a-4ccc-bd4e-40b367bb25ee"
      },
      "execution_count": null,
      "outputs": [
        {
          "output_type": "stream",
          "name": "stdout",
          "text": [
            "XGBClassifier(base_score=None, booster=None, callbacks=None,\n",
            "              colsample_bylevel=None, colsample_bynode=None,\n",
            "              colsample_bytree=None, early_stopping_rounds=None,\n",
            "              enable_categorical=False, eval_metric=None, feature_types=None,\n",
            "              gamma=None, gpu_id=None, grow_policy=None, importance_type=None,\n",
            "              interaction_constraints=None, learning_rate=None, max_bin=None,\n",
            "              max_cat_threshold=None, max_cat_to_onehot=None,\n",
            "              max_delta_step=None, max_depth=None, max_leaves=None,\n",
            "              min_child_weight=None, missing=nan, monotone_constraints=None,\n",
            "              n_estimators=100, n_jobs=None, num_parallel_tree=None,\n",
            "              objective='multi:softprob', predictor=None, ...)\n"
          ]
        }
      ]
    },
    {
      "cell_type": "code",
      "source": [
        "y_pred6=xgb.predict(x_test)\n",
        "result6=pd.DataFrame({'Actual':y_test,'Prediction':y_pred6})\n",
        "print(result6.head())"
      ],
      "metadata": {
        "id": "KZR_QxsStQNf",
        "colab": {
          "base_uri": "https://localhost:8080/"
        },
        "outputId": "a5921bca-21de-4687-c2da-c4333cd448a7"
      },
      "execution_count": null,
      "outputs": [
        {
          "output_type": "stream",
          "name": "stdout",
          "text": [
            "   Actual  Prediction\n",
            "0       0           4\n",
            "1       4           4\n",
            "2       2           1\n",
            "3       4           4\n",
            "4       2           2\n"
          ]
        }
      ]
    },
    {
      "cell_type": "code",
      "source": [
        "\n",
        "from sklearn.metrics import confusion_matrix,ConfusionMatrixDisplay\n",
        "print(confusion_matrix(y_test,y_pred6))\n",
        "confusion_matrix=confusion_matrix(y_test,y_pred6)\n",
        "cm_display = ConfusionMatrixDisplay(confusion_matrix = confusion_matrix, display_labels =xgb.classes_)\n",
        "cm_display.plot()\n",
        "print(plt.show())"
      ],
      "metadata": {
        "colab": {
          "base_uri": "https://localhost:8080/",
          "height": 386
        },
        "id": "rUw-D4CHtVBq",
        "outputId": "d8aeae2b-3e2f-43b1-ea03-3738c5f949c6"
      },
      "execution_count": null,
      "outputs": [
        {
          "output_type": "stream",
          "name": "stdout",
          "text": [
            "[[  1   1   0   0   9]\n",
            " [  1   4   0   0  24]\n",
            " [  0   1 121   0   6]\n",
            " [  0   0   5   1   0]\n",
            " [  3   8   3   0 105]]\n"
          ]
        },
        {
          "output_type": "display_data",
          "data": {
            "text/plain": [
              "<Figure size 432x288 with 2 Axes>"
            ],
            "image/png": "[encoded data removed]"
          },
          "metadata": {
            "needs_background": "light"
          }
        },
        {
          "output_type": "stream",
          "name": "stdout",
          "text": [
            "None\n"
          ]
        }
      ]
    },
    {
      "cell_type": "code",
      "source": [
        "from sklearn.metrics import classification_report\n",
        "print(classification_report(y_test,y_pred6))"
      ],
      "metadata": {
        "colab": {
          "base_uri": "https://localhost:8080/"
        },
        "id": "4_tLMYL_tZnX",
        "outputId": "81f3fb2c-450c-4cb8-ad67-c220a88fdd31"
      },
      "execution_count": null,
      "outputs": [
        {
          "output_type": "stream",
          "name": "stdout",
          "text": [
            "              precision    recall  f1-score   support\n",
            "\n",
            "           0       0.20      0.09      0.13        11\n",
            "           1       0.29      0.14      0.19        29\n",
            "           2       0.94      0.95      0.94       128\n",
            "           3       1.00      0.17      0.29         6\n",
            "           4       0.73      0.88      0.80       119\n",
            "\n",
            "    accuracy                           0.79       293\n",
            "   macro avg       0.63      0.44      0.47       293\n",
            "weighted avg       0.76      0.79      0.76       293\n",
            "\n"
          ]
        }
      ]
    },
    {
      "cell_type": "code",
      "source": [
        "from sklearn.metrics import accuracy_score\n",
        "print(accuracy_score(y_test,y_pred6))"
      ],
      "metadata": {
        "colab": {
          "base_uri": "https://localhost:8080/"
        },
        "id": "uu10d1A2zmgY",
        "outputId": "58e6d3b4-3f57-4892-c05b-d44bf5d8c9ad"
      },
      "execution_count": null,
      "outputs": [
        {
          "output_type": "stream",
          "name": "stdout",
          "text": [
            "0.7918088737201365\n"
          ]
        }
      ]
    },
    {
      "cell_type": "markdown",
      "source": [
        "Feature Extraction"
      ],
      "metadata": {
        "id": "9ly5sTlZOcoS"
      }
    },
    {
      "cell_type": "code",
      "source": [
        "#Feature Extraction\n",
        "feature_importances=pd.DataFrame(xgb.feature_importances_,index=x_train.columns,columns=['importance']).sort_values('importance')\n",
        "print(feature_importances)"
      ],
      "metadata": {
        "colab": {
          "base_uri": "https://localhost:8080/"
        },
        "id": "mEwJFmrWbqeY",
        "outputId": "246ab676-c6f9-451c-cc32-60e10f423492"
      },
      "execution_count": null,
      "outputs": [
        {
          "output_type": "stream",
          "name": "stdout",
          "text": [
            "               importance\n",
            "wind             0.034426\n",
            "temp_max         0.039522\n",
            "temp_min         0.042155\n",
            "precipitation    0.883897\n"
          ]
        }
      ]
    },
    {
      "cell_type": "code",
      "source": [
        "X = pd.DataFrame(data,columns=['temp_min','temp_max','precipitation'])\n",
        "#y = data['weather']"
      ],
      "metadata": {
        "id": "b_eT6VgpbyYR"
      },
      "execution_count": null,
      "outputs": []
    },
    {
      "cell_type": "code",
      "source": [
        "from sklearn.model_selection import train_test_split\n",
        "X_train, X_test, y_train, y_test = train_test_split(X, y, test_size=0.20)\n",
        "from xgboost import XGBClassifier\n",
        "xgb=XGBClassifier()\n",
        "print(xgb.fit(X_train,y_train))\n",
        "y_pred7 = xgb.predict(X_test)\n",
        "\n",
        "result7=pd.DataFrame({'Actual':y_test,'Prediction':y_pred7})\n",
        "print(result7.head())\n"
      ],
      "metadata": {
        "colab": {
          "base_uri": "https://localhost:8080/"
        },
        "id": "U19TE1BTcKis",
        "outputId": "774ff209-5c43-45bc-aba9-8dcfc13f1194"
      },
      "execution_count": null,
      "outputs": [
        {
          "output_type": "stream",
          "name": "stdout",
          "text": [
            "XGBClassifier(base_score=None, booster=None, callbacks=None,\n",
            "              colsample_bylevel=None, colsample_bynode=None,\n",
            "              colsample_bytree=None, early_stopping_rounds=None,\n",
            "              enable_categorical=False, eval_metric=None, feature_types=None,\n",
            "              gamma=None, gpu_id=None, grow_policy=None, importance_type=None,\n",
            "              interaction_constraints=None, learning_rate=None, max_bin=None,\n",
            "              max_cat_threshold=None, max_cat_to_onehot=None,\n",
            "              max_delta_step=None, max_depth=None, max_leaves=None,\n",
            "              min_child_weight=None, missing=nan, monotone_constraints=None,\n",
            "              n_estimators=100, n_jobs=None, num_parallel_tree=None,\n",
            "              objective='multi:softprob', predictor=None, ...)\n",
            "   Actual  Prediction\n",
            "0       2           2\n",
            "1       1           4\n",
            "2       4           4\n",
            "3       2           2\n",
            "4       2           2\n"
          ]
        }
      ]
    },
    {
      "cell_type": "code",
      "source": [
        "\n",
        "from sklearn.metrics import confusion_matrix,ConfusionMatrixDisplay,classification_report\n",
        "print(confusion_matrix(y_test,y_pred7))\n",
        "confusion_matrix=confusion_matrix(y_test,y_pred7)\n",
        "cm_display = ConfusionMatrixDisplay(confusion_matrix = confusion_matrix, display_labels = xgb.classes_)\n",
        "cm_display.plot()\n",
        "plt.show()\n",
        "print(classification_report(y_test, y_pred7))"
      ],
      "metadata": {
        "colab": {
          "base_uri": "https://localhost:8080/",
          "height": 574
        },
        "id": "TlrHABVsGOaS",
        "outputId": "7e8b662f-2205-4002-9221-ef198daa76bb"
      },
      "execution_count": null,
      "outputs": [
        {
          "output_type": "stream",
          "name": "stdout",
          "text": [
            "[[  3   1   0   0   8]\n",
            " [  1   0   1   0  10]\n",
            " [  0   1 128   1   9]\n",
            " [  0   0   6   1   0]\n",
            " [  0   6   2   0 115]]\n"
          ]
        },
        {
          "output_type": "display_data",
          "data": {
            "text/plain": [
              "<Figure size 432x288 with 2 Axes>"
            ],
            "image/png": "[encoded data removed]"
          },
          "metadata": {
            "needs_background": "light"
          }
        },
        {
          "output_type": "stream",
          "name": "stdout",
          "text": [
            "              precision    recall  f1-score   support\n",
            "\n",
            "           0       0.75      0.25      0.38        12\n",
            "           1       0.00      0.00      0.00        12\n",
            "           2       0.93      0.92      0.93       139\n",
            "           3       0.50      0.14      0.22         7\n",
            "           4       0.81      0.93      0.87       123\n",
            "\n",
            "    accuracy                           0.84       293\n",
            "   macro avg       0.60      0.45      0.48       293\n",
            "weighted avg       0.83      0.84      0.83       293\n",
            "\n"
          ]
        }
      ]
    },
    {
      "cell_type": "code",
      "source": [
        "from sklearn.metrics import accuracy_score\n",
        "print(accuracy_score(y_test,y_pred7))"
      ],
      "metadata": {
        "colab": {
          "base_uri": "https://localhost:8080/"
        },
        "id": "bXk0luFZzsRd",
        "outputId": "fadeebbd-f1ae-4f70-b060-3dfbbf371f82"
      },
      "execution_count": null,
      "outputs": [
        {
          "output_type": "stream",
          "name": "stdout",
          "text": [
            "0.8430034129692833\n"
          ]
        }
      ]
    },
    {
      "cell_type": "markdown",
      "source": [
        "Accuracy is increased from 0.82 to 0.86"
      ],
      "metadata": {
        "id": "b8zr-96yOjsC"
      }
    }
  ],
  "metadata": {
    "colab": {
      "provenance": []
    },
    "kernelspec": {
      "display_name": "Python 3",
      "name": "python3"
    },
    "language_info": {
      "name": "python"
    }
  },
  "nbformat": 4,
  "nbformat_minor": 0
}